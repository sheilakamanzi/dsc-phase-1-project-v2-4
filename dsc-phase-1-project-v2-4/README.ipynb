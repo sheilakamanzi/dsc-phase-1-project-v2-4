{
 "cells": [
  {
   "attachments": {},
   "cell_type": "markdown",
   "metadata": {},
   "source": [
    "# Unveiling the Secrets of Box Office Success: A Comprehensive Analysis for Establishing a Profitable Film Business and Key Strategies for Microsoft's New Movie Studio"
   ]
  },
  {
   "cell_type": "markdown",
   "metadata": {},
   "source": [
    "## Project Overview"
   ]
  },
  {
   "cell_type": "markdown",
   "metadata": {},
   "source": [
    "The objective of this project is to provide actionable insights to Microsoft for their new movie production business by analyzing datasets to determine the types of movies that have been best sellers at the box office. The analysis will focus on exploring patterns and trends in the data to help Microsoft make informed decisions on the types of movies to produce in order to maximize box office success.\n"
   ]
  },
  {
   "cell_type": "markdown",
   "metadata": {},
   "source": [
    "## Business Problem"
   ]
  },
  {
   "cell_type": "markdown",
   "metadata": {},
   "source": [
    "Microsoft sees all the big companies creating original video content and they want to get in on the fun. They have decided to create a new movie studio, but they don’t know anything about creating movies. You are charged with exploring what types of films are currently doing the best at the box office. You must then translate those findings into actionable insights that the head of Microsoft's new movie studio can use to help decide what type of films to create."
   ]
  },
  {
   "cell_type": "markdown",
   "metadata": {},
   "source": [
    "## Data Used"
   ]
  },
  {
   "cell_type": "markdown",
   "metadata": {},
   "source": [
    "1.The 'bom.movie_gross.csv' dataset  obtained from Box Office Mojo and contains information on movie titles, studios, domestic and foreign gross earnings, release dates, and genre for movies released in North America since 2010.\n",
    "\n",
    "2.The 'tmdb.movies.csv' dataset obtained from The Movie Database and contains information on movie titles, genres, release dates, runtime, revenue, and budget for movies released since 1960.\n",
    "\n",
    "3.The 'tn.movie_budgets.csv' dataset  obtained from The Numbers and contains information on movie titles, production budgets, and worldwide gross revenue for movies released since 1915.\n"
   ]
  },
  {
   "cell_type": "markdown",
   "metadata": {},
   "source": [
    "## Data Analysis"
   ]
  },
  {
   "cell_type": "markdown",
   "metadata": {},
   "source": [
    "Analysis was done in Jupyter Notebook, using the Pandas,Numpy, Maplotlib and Seaborn Libraries and python for coding."
   ]
  },
  {
   "cell_type": "markdown",
   "metadata": {},
   "source": [
    "## Key Objectives"
   ]
  },
  {
   "attachments": {},
   "cell_type": "markdown",
   "metadata": {},
   "source": [
    "1.How does the title of a movie impact its box office success?\n",
    "\n",
    "2.What is the relationship between a movie's production budget and its box office revenue?\n",
    "\n",
    "3.How does a movie’s GENRE, as measured by its popularity and  vote count, affect its box office success?"
   ]
  },
  {
   "cell_type": "markdown",
   "metadata": {},
   "source": [
    "## Contributing Guidelines"
   ]
  },
  {
   "cell_type": "markdown",
   "metadata": {},
   "source": [
    "Developers and data scientists are welcome to fork and further improve on this analysis"
   ]
  },
  {
   "cell_type": "markdown",
   "metadata": {},
   "source": [
    "## Useful Links"
   ]
  },
  {
   "cell_type": "markdown",
   "metadata": {},
   "source": [
    "1.https://www.boxofficemojo.com/\n",
    "\n",
    "2.https://www.themoviedb.org/\n",
    "\n",
    "3.https://www.the-numbers.com/"
   ]
  },
  {
   "cell_type": "code",
   "execution_count": null,
   "metadata": {},
   "outputs": [],
   "source": []
  }
 ],
 "metadata": {
  "kernelspec": {
   "display_name": "Python (learn-env)",
   "language": "python",
   "name": "learn-env"
  },
  "language_info": {
   "codemirror_mode": {
    "name": "ipython",
    "version": 3
   },
   "file_extension": ".py",
   "mimetype": "text/x-python",
   "name": "python",
   "nbconvert_exporter": "python",
   "pygments_lexer": "ipython3",
   "version": "3.8.5"
  }
 },
 "nbformat": 4,
 "nbformat_minor": 4
}
